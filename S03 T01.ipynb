{
 "cells": [
  {
   "cell_type": "markdown",
   "id": "e4eb0165",
   "metadata": {},
   "source": [
    "# S03 T01: Estructura de dades"
   ]
  },
  {
   "cell_type": "markdown",
   "id": "17e05959",
   "metadata": {},
   "source": [
    "### Nivell 1"
   ]
  },
  {
   "cell_type": "markdown",
   "id": "6f129ce1",
   "metadata": {},
   "source": [
    "- Exercici 1<br>\n",
    "Crea una llista que agrupi els mesos de l’any en trimestres (1T: Gener, Febrer i Març, 2T: Abril, Maig, Juny...), és a dir, una llista amb 4 llistes dins.\n",
    "\n"
   ]
  },
  {
   "cell_type": "code",
   "execution_count": 7,
   "id": "277092b1",
   "metadata": {},
   "outputs": [
    {
     "name": "stdout",
     "output_type": "stream",
     "text": [
      "[['Gener', 'Febrer', 'Març'], ['Abril', 'Maig', 'Juny'], ['Juliol', 'Agost', 'Setembre'], ['Octubre', 'Novembre', 'Desembre']]\n"
     ]
    }
   ],
   "source": [
    "t1 = [\"Gener\", \"Febrer\", \"Març\"]\n",
    "t2 = [\"Abril\", \"Maig\", \"Juny\"]\n",
    "t3 = [\"Juliol\", \"Agost\", \"Setembre\"]\n",
    "t4 = [\"Octubre\", \"Novembre\", \"Desembre\"]\n",
    "\n",
    "any = [t1, t2, t3, t4]\n",
    "print(any)"
   ]
  },
  {
   "cell_type": "markdown",
   "id": "ac062210",
   "metadata": {},
   "source": [
    "- Exercici 2<br>\n",
    "Crea un codi que et permeti accedir a:<br>\n",
    "\n",
    "    -El segon mes del primer trimestre<br>\n",
    "    -Els mesos del primer trimestre<br>\n",
    "    -Setembre i octubre"
   ]
  },
  {
   "cell_type": "code",
   "execution_count": 15,
   "id": "3c4d0bf4",
   "metadata": {},
   "outputs": [
    {
     "name": "stdout",
     "output_type": "stream",
     "text": [
      "Febrer\n",
      "['Gener', 'Febrer', 'Març']\n",
      "Setembre, Octubre\n"
     ]
    }
   ],
   "source": [
    "any = [['Gener', 'Febrer', 'Març'], ['Abril', 'Maig', 'Juny'], ['Juliol', 'Agost', 'Setembre'], ['Octubre', 'Novembre', 'Desembre']]\n",
    "print(any[0][1])\n",
    "print(any[0])\n",
    "print(any[2][2] + \", \" +any[3][0])"
   ]
  },
  {
   "cell_type": "markdown",
   "id": "7ce16e19",
   "metadata": {},
   "source": [
    "- Exercici 3<br>\n",
    "Crea una llista amb nombres desordenats i respon a les següents preguntes:<br>\n",
    "\n",
    "    -Quants números hi ha?<br>\n",
    "    -Quantes vegades apareix el número 3<br>\n",
    "    -Quantes vegades apareixen els nombres 3 i 4?<br>\n",
    "    -Quin és el número més gran?<br>\n",
    "    -Quins són els 3 números més petits?<br>\n",
    "    -Quin és el rang d’aquesta llista?"
   ]
  },
  {
   "cell_type": "code",
   "execution_count": 67,
   "id": "f9cbfa73",
   "metadata": {},
   "outputs": [
    {
     "name": "stdout",
     "output_type": "stream",
     "text": [
      "9\n",
      "0\n",
      "0 1\n",
      "100\n"
     ]
    }
   ],
   "source": [
    "nombres = [60, 10, 5, 4, 28, 36, 11, 47, 100]\n",
    "print(len(nombres))\n",
    "print(nombres.count(3))\n",
    "x = nombres.count(3)\n",
    "y = nombres.count(4)\n",
    "print(x,y)\n",
    "print(max(nombres))\n",
    "#print(min(nombres[0][3]))#arreglar!!!!!\n",
    "#print(nombres(range(9)))#arreglar!!!!!\n"
   ]
  },
  {
   "cell_type": "code",
   "execution_count": null,
   "id": "efc17cc7",
   "metadata": {},
   "outputs": [],
   "source": []
  }
 ],
 "metadata": {
  "kernelspec": {
   "display_name": "Python 3",
   "language": "python",
   "name": "python3"
  },
  "language_info": {
   "codemirror_mode": {
    "name": "ipython",
    "version": 3
   },
   "file_extension": ".py",
   "mimetype": "text/x-python",
   "name": "python",
   "nbconvert_exporter": "python",
   "pygments_lexer": "ipython3",
   "version": "3.8.8"
  }
 },
 "nbformat": 4,
 "nbformat_minor": 5
}
