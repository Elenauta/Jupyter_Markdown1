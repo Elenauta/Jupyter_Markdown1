{
 "cells": [
  {
   "cell_type": "markdown",
   "id": "9fa47d6d",
   "metadata": {},
   "source": [
    "# Dictionaries"
   ]
  },
  {
   "cell_type": "markdown",
   "id": "1abed844",
   "metadata": {},
   "source": [
    "__{key:value, ...}__"
   ]
  },
  {
   "cell_type": "markdown",
   "id": "82b33027",
   "metadata": {},
   "source": [
    "cotxe1 = {\n",
    "    \"brand\": \"Ford\", \n",
    "    \"model\": \"Mustang\",\n",
    "    \"year\":1964\n",
    "}\n",
    "print(cotxe1)"
   ]
  },
  {
   "cell_type": "code",
   "execution_count": 51,
   "id": "7698923e",
   "metadata": {
    "scrolled": true
   },
   "outputs": [
    {
     "name": "stdout",
     "output_type": "stream",
     "text": [
      "{'nom': 'Marta', 'edat': 40, 'ofici': 'Diseny'}\n"
     ]
    }
   ],
   "source": [
    "amiga1 = {\n",
    "    \"nom\": \"Marta\", \n",
    "    \"edat\": 40, \n",
    "    \"ofici\": \"Diseny\"\n",
    "}\n",
    "print(amiga1)"
   ]
  },
  {
   "cell_type": "code",
   "execution_count": 18,
   "id": "547b08c1",
   "metadata": {},
   "outputs": [
    {
     "name": "stdout",
     "output_type": "stream",
     "text": [
      "{'brand': 'Seat', 'model': 'Mustang', 'year': 2000, 'colors': ['red', 'white', 'blue'], 'electric': False}\n",
      "5\n",
      "<class 'dict'>\n"
     ]
    }
   ],
   "source": [
    "cotxe1 = {\n",
    "    \"brand\": \"Ford\", \n",
    "    \"model\": \"Mustang\",\n",
    "    \"year\": 1964, \n",
    "    \"year\": 2000,\n",
    "    \"brand\": \"Seat\",\n",
    "    \"colors\": [\"red\", \"white\", \"blue\"],\n",
    "    \"electric\": False, \n",
    "   \n",
    "}\n",
    "print(cotxe1)\n",
    "print(len(cotxe1))\n",
    "print(type(cotxe1))"
   ]
  },
  {
   "cell_type": "markdown",
   "id": "29985961",
   "metadata": {},
   "source": [
    "#### _Access the dictionary Items_"
   ]
  },
  {
   "cell_type": "code",
   "execution_count": 20,
   "id": "c123b06d",
   "metadata": {},
   "outputs": [
    {
     "name": "stdout",
     "output_type": "stream",
     "text": [
      "40\n"
     ]
    }
   ],
   "source": [
    "amiga1 = {\n",
    "    \"nom\": \"Marta\", \n",
    "    \"edat\": 40, \n",
    "    \"ofici\": \"Diseny\"\n",
    "}\n",
    "x = amiga1[\"edat\"]\n",
    "print(x)"
   ]
  },
  {
   "cell_type": "code",
   "execution_count": 22,
   "id": "4fd6c074",
   "metadata": {},
   "outputs": [
    {
     "name": "stdout",
     "output_type": "stream",
     "text": [
      "40\n"
     ]
    }
   ],
   "source": [
    "x = amiga1.get(\"edat\")\n",
    "print(x)"
   ]
  },
  {
   "cell_type": "code",
   "execution_count": 25,
   "id": "098553e0",
   "metadata": {},
   "outputs": [
    {
     "name": "stdout",
     "output_type": "stream",
     "text": [
      "dict_keys(['nom', 'edat', 'ofici'])\n",
      "dict_keys(['nom', 'edat', 'ofici', 'feina'])\n"
     ]
    }
   ],
   "source": [
    "amiga1 = {\n",
    "    \"nom\": \"Marta\", \n",
    "    \"edat\": 40, \n",
    "    \"ofici\": \"Diseny\"\n",
    "}\n",
    "x = amiga1.keys()\n",
    "print(x)\n",
    "\n",
    "amiga1[\"feina\"] = \"aparadorisa\"\n",
    "print(x)\n"
   ]
  },
  {
   "cell_type": "code",
   "execution_count": 26,
   "id": "4ace0767",
   "metadata": {},
   "outputs": [
    {
     "name": "stdout",
     "output_type": "stream",
     "text": [
      "dict_values(['Marta', 40, 'Diseny'])\n",
      "dict_values(['Marta', 40, 'Diseny', 'aparadorista'])\n"
     ]
    }
   ],
   "source": [
    "amiga1 = {\n",
    "    \"nom\": \"Marta\", \n",
    "    \"edat\": 40, \n",
    "    \"ofici\": \"Diseny\"\n",
    "}\n",
    "x = amiga1.values()\n",
    "print(x)\n",
    "\n",
    "amiga1[\"feina\"] = \"aparadorista\"\n",
    "print(x)"
   ]
  },
  {
   "cell_type": "code",
   "execution_count": 31,
   "id": "6378c40c",
   "metadata": {},
   "outputs": [
    {
     "name": "stdout",
     "output_type": "stream",
     "text": [
      "dict_items([('nom', 'Marta'), ('edat', 40), ('ofici', 'Diseny')])\n",
      "dict_items([('nom', 'Marta'), ('edat', 40), ('ofici', 'Diseny'), ('feina', 'aparadorista')])\n",
      "dict_items([('nom', 'Marta'), ('edat', 40), ('ofici', 'Diseny'), ('feina', 'cuinera')])\n"
     ]
    }
   ],
   "source": [
    "amiga1 = {\n",
    "    \"nom\": \"Marta\", \n",
    "    \"edat\": 40, \n",
    "    \"ofici\": \"Diseny\"\n",
    "}\n",
    "x = amiga1.items()\n",
    "print(x)\n",
    "\n",
    "amiga1[\"feina\"] = \"aparadorista\"\n",
    "print(x)\n",
    "amiga1[\"feina\"] = \"cuinera\"\n",
    "print(x)"
   ]
  },
  {
   "cell_type": "code",
   "execution_count": 30,
   "id": "23aca6ef",
   "metadata": {},
   "outputs": [
    {
     "name": "stdout",
     "output_type": "stream",
     "text": [
      "Yes, 'ofici' is in the amiga1 dictionary\n"
     ]
    }
   ],
   "source": [
    "amiga1 = {\n",
    "    \"nom\": \"Marta\", \n",
    "    \"edat\": 40, \n",
    "    \"ofici\": \"Diseny\"\n",
    "}\n",
    "if \"ofici\" in a:                                      #chek\n",
    "    print(\"Yes, 'ofici' is in the amiga1 dictionary\")"
   ]
  },
  {
   "cell_type": "code",
   "execution_count": 33,
   "id": "36c6152f",
   "metadata": {},
   "outputs": [
    {
     "name": "stdout",
     "output_type": "stream",
     "text": [
      "{'nom': 'Marta', 'edat': 25, 'ofici': 'Diseny'}\n"
     ]
    }
   ],
   "source": [
    "amiga1 = {\n",
    "    \"nom\": \"Marta\", \n",
    "    \"edat\": 40, \n",
    "    \"ofici\": \"Diseny\"\n",
    "}\n",
    "amiga1.update({\"edat\": 25})                            #update\n",
    "print(amiga1)"
   ]
  },
  {
   "cell_type": "code",
   "execution_count": 38,
   "id": "238a4bd3",
   "metadata": {},
   "outputs": [
    {
     "name": "stdout",
     "output_type": "stream",
     "text": [
      "{'nom': 'Marta', 'edat': 40, 'ofici': 'Diseny', 'colorcabell': 'castany'}\n"
     ]
    }
   ],
   "source": [
    "amiga1 = {\n",
    "    \"nom\": \"Marta\", \n",
    "    \"edat\": 40, \n",
    "    \"ofici\": \"Diseny\",\n",
    "}\n",
    "amiga1[\"colorcabell\"] = \"castany\"                   #add\n",
    "print(amiga1)"
   ]
  },
  {
   "cell_type": "code",
   "execution_count": 41,
   "id": "67a2f84c",
   "metadata": {},
   "outputs": [
    {
     "name": "stdout",
     "output_type": "stream",
     "text": [
      "{'edat': 40, 'ofici': 'Diseny'}\n"
     ]
    }
   ],
   "source": [
    "amiga1 = {\n",
    "    \"nom\": \"Marta\", \n",
    "    \"edat\": 40, \n",
    "    \"ofici\": \"Diseny\",\n",
    "}\n",
    "amiga1.pop(\"nom\")                             #remove \n",
    "print(amiga1)\n"
   ]
  },
  {
   "cell_type": "code",
   "execution_count": 45,
   "id": "65695ba1",
   "metadata": {},
   "outputs": [
    {
     "name": "stdout",
     "output_type": "stream",
     "text": [
      "{'nom': 'Marta', 'ofici': 'Diseny'}\n"
     ]
    }
   ],
   "source": [
    "amiga1 = {\n",
    "    \"nom\": \"Marta\", \n",
    "    \"edat\": 40, \n",
    "    \"ofici\": \"Diseny\",\n",
    "}\n",
    "del amiga1[\"edat\"]                             #remove \n",
    "print(amiga1)\n"
   ]
  },
  {
   "cell_type": "markdown",
   "id": "a1909e18",
   "metadata": {},
   "source": [
    "_________"
   ]
  },
  {
   "cell_type": "code",
   "execution_count": 46,
   "id": "08cc0df1",
   "metadata": {},
   "outputs": [
    {
     "ename": "NameError",
     "evalue": "name 'amiga1' is not defined",
     "output_type": "error",
     "traceback": [
      "\u001b[0;31m---------------------------------------------------------------------------\u001b[0m",
      "\u001b[0;31mNameError\u001b[0m                                 Traceback (most recent call last)",
      "\u001b[0;32m<ipython-input-46-f2590ddaa491>\u001b[0m in \u001b[0;36m<module>\u001b[0;34m\u001b[0m\n\u001b[1;32m      1\u001b[0m \u001b[0;32mdel\u001b[0m \u001b[0mamiga1\u001b[0m          \u001b[0;31m#remove dictionary!!!!!!!!!!!!!!!!\u001b[0m\u001b[0;34m\u001b[0m\u001b[0;34m\u001b[0m\u001b[0m\n\u001b[0;32m----> 2\u001b[0;31m \u001b[0mprint\u001b[0m\u001b[0;34m(\u001b[0m\u001b[0mamiga1\u001b[0m\u001b[0;34m)\u001b[0m\u001b[0;34m\u001b[0m\u001b[0;34m\u001b[0m\u001b[0m\n\u001b[0m",
      "\u001b[0;31mNameError\u001b[0m: name 'amiga1' is not defined"
     ]
    }
   ],
   "source": [
    "del amiga1          #remove dictionary!!!!!!!!!!!!!!!!\n",
    "print(amiga1)"
   ]
  },
  {
   "cell_type": "markdown",
   "id": "ec9c7af0",
   "metadata": {},
   "source": [
    "\n",
    "- Error because the Dictionary no longer exist!!!!!!!\n",
    "- Deleted Dictionary!"
   ]
  },
  {
   "cell_type": "markdown",
   "id": "c6601bcd",
   "metadata": {},
   "source": [
    "_______"
   ]
  },
  {
   "cell_type": "code",
   "execution_count": 48,
   "id": "6212c55b",
   "metadata": {},
   "outputs": [
    {
     "name": "stdout",
     "output_type": "stream",
     "text": [
      "{}\n"
     ]
    }
   ],
   "source": [
    "amiga1 = {\n",
    "    \"nom\": \"Marta\", \n",
    "    \"edat\": 40, \n",
    "    \"ofici\": \"Diseny\",\n",
    "}\n",
    "amiga1.clear()            #to empty the dictionary\n",
    "print(amiga1)"
   ]
  },
  {
   "cell_type": "markdown",
   "id": "2effea46",
   "metadata": {},
   "source": [
    "_____\n",
    "_____"
   ]
  },
  {
   "cell_type": "markdown",
   "id": "3f641da1",
   "metadata": {},
   "source": [
    "### Loop"
   ]
  },
  {
   "cell_type": "code",
   "execution_count": 54,
   "id": "8b506f97",
   "metadata": {},
   "outputs": [
    {
     "name": "stdout",
     "output_type": "stream",
     "text": [
      "nom\n",
      "edat\n",
      "ofici\n"
     ]
    }
   ],
   "source": [
    "amiga1 = {\n",
    "    \"nom\": \"Marta\", \n",
    "    \"edat\": 40, \n",
    "    \"ofici\": \"Diseny\",\n",
    "}\n",
    "for x in amiga1:\n",
    "    print(x)               # get the keys\n"
   ]
  },
  {
   "cell_type": "code",
   "execution_count": 57,
   "id": "d4d17021",
   "metadata": {},
   "outputs": [
    {
     "name": "stdout",
     "output_type": "stream",
     "text": [
      "nom\n",
      "edat\n",
      "ofici\n"
     ]
    }
   ],
   "source": [
    "for x in amiga1.keys():     # also keys!\n",
    "    print(x)"
   ]
  },
  {
   "cell_type": "code",
   "execution_count": 55,
   "id": "4c39c4c2",
   "metadata": {},
   "outputs": [
    {
     "name": "stdout",
     "output_type": "stream",
     "text": [
      "Marta\n",
      "40\n",
      "Diseny\n"
     ]
    }
   ],
   "source": [
    "for x in amiga1:\n",
    "    print(amiga1[x])        # get the values"
   ]
  },
  {
   "cell_type": "code",
   "execution_count": 56,
   "id": "dd0d37ac",
   "metadata": {},
   "outputs": [
    {
     "name": "stdout",
     "output_type": "stream",
     "text": [
      "Marta\n",
      "40\n",
      "Diseny\n"
     ]
    }
   ],
   "source": [
    "for x in amiga1.values():    # also values!\n",
    "    print(x)"
   ]
  },
  {
   "cell_type": "code",
   "execution_count": 58,
   "id": "fc07d90c",
   "metadata": {},
   "outputs": [
    {
     "name": "stdout",
     "output_type": "stream",
     "text": [
      "nom Marta\n",
      "edat 40\n",
      "ofici Diseny\n"
     ]
    }
   ],
   "source": [
    "for x, y in amiga1.items():    # keys and values. Items\n",
    "    print(x,y)"
   ]
  },
  {
   "cell_type": "markdown",
   "id": "6dba5d06",
   "metadata": {},
   "source": [
    "### Copy a Dictionary"
   ]
  },
  {
   "cell_type": "code",
   "execution_count": 61,
   "id": "e0b3bb11",
   "metadata": {},
   "outputs": [
    {
     "name": "stdout",
     "output_type": "stream",
     "text": [
      "{'nom': 'Marta', 'edat': 40, 'ofici': 'Diseny'}\n"
     ]
    }
   ],
   "source": [
    "amiga1 = {\n",
    "    \"nom\": \"Marta\", \n",
    "    \"edat\": 40, \n",
    "    \"ofici\": \"Diseny\",\n",
    "}\n",
    "amiga2 = amiga1.copy()\n",
    "print(amiga2)"
   ]
  },
  {
   "cell_type": "code",
   "execution_count": 62,
   "id": "16cbc296",
   "metadata": {},
   "outputs": [
    {
     "name": "stdout",
     "output_type": "stream",
     "text": [
      "{'nom': 'Marta', 'edat': 40, 'ofici': 'Diseny'}\n"
     ]
    }
   ],
   "source": [
    "amiga2 = dict(amiga1)       # copy with the function dict()\n",
    "print(amiga2)"
   ]
  },
  {
   "cell_type": "markdown",
   "id": "0d96738f",
   "metadata": {},
   "source": [
    "### Nested Dictionaries"
   ]
  },
  {
   "cell_type": "code",
   "execution_count": 68,
   "id": "701e3377",
   "metadata": {},
   "outputs": [
    {
     "name": "stdout",
     "output_type": "stream",
     "text": [
      "{'amiga1': {'nom': 'Marta', 'edat': 40}, 'amiga2': {'nom': 'Micha', 'edat': 25}, 'amiga3': {'nom': 'Rosa', 'edat': 35}}\n"
     ]
    }
   ],
   "source": [
    "amigues = {\n",
    "    \"amiga1\" : {\n",
    "        \"nom\": \"Marta\", \n",
    "       \"edat\": 40, \n",
    "    },\n",
    "    \"amiga2\" : {\n",
    "        \"nom\": \"Micha\", \n",
    "       \"edat\": 25, \n",
    "    },\n",
    "    \"amiga3\" : {\n",
    "        \"nom\": \"Rosa\", \n",
    "       \"edat\": 35, \n",
    "    }\n",
    "}\n",
    "print(amigues)"
   ]
  },
  {
   "cell_type": "code",
   "execution_count": 67,
   "id": "8089ab90",
   "metadata": {},
   "outputs": [
    {
     "name": "stdout",
     "output_type": "stream",
     "text": [
      "{'amiga1': {'nom': 'Marta', 'edat': 40}, 'amiga2': {'nom': 'Micha', 'edat': 25}, 'amiga3': {'nom': 'Rosa', 'edat': 35}}\n"
     ]
    }
   ],
   "source": [
    "\n",
    "    amiga1 = {\n",
    "        \"nom\": \"Marta\", \n",
    "       \"edat\": 40, \n",
    "    }\n",
    "        \n",
    "    amiga2 = {\n",
    "        \"nom\": \"Micha\", \n",
    "       \"edat\": 25, \n",
    "    }\n",
    "        \n",
    "    amiga3 = {\n",
    "        \"nom\": \"Rosa\", \n",
    "       \"edat\": 35, \n",
    "    }   \n",
    "        \n",
    "amigues = {\n",
    "    \"amiga1\" : amiga1, \n",
    "    \"amiga2\" : amiga2, \n",
    "    \"amiga3\" : amiga3\n",
    "}\n",
    "print(amigues)"
   ]
  },
  {
   "cell_type": "code",
   "execution_count": null,
   "id": "597e412e",
   "metadata": {},
   "outputs": [],
   "source": []
  },
  {
   "cell_type": "code",
   "execution_count": null,
   "id": "1a3b68d8",
   "metadata": {},
   "outputs": [],
   "source": []
  }
 ],
 "metadata": {
  "kernelspec": {
   "display_name": "Python 3",
   "language": "python",
   "name": "python3"
  },
  "language_info": {
   "codemirror_mode": {
    "name": "ipython",
    "version": 3
   },
   "file_extension": ".py",
   "mimetype": "text/x-python",
   "name": "python",
   "nbconvert_exporter": "python",
   "pygments_lexer": "ipython3",
   "version": "3.8.8"
  }
 },
 "nbformat": 4,
 "nbformat_minor": 5
}
