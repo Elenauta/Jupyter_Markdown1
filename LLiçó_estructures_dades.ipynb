{
 "cells": [
  {
   "cell_type": "markdown",
   "id": "de0b2b85",
   "metadata": {},
   "source": [
    "# Python Lists\n"
   ]
  },
  {
   "cell_type": "markdown",
   "id": "a1820f34",
   "metadata": {},
   "source": [
    "Lists store collections of data. [ ]. They are OBJECTS with the data type 'list': <class 'list'>"
   ]
  },
  {
   "cell_type": "code",
   "execution_count": 1,
   "id": "27b788ee",
   "metadata": {},
   "outputs": [
    {
     "name": "stdout",
     "output_type": "stream",
     "text": [
      "['apple', 'banana', 'cherry']\n"
     ]
    }
   ],
   "source": [
    "thislist = [\"apple\", \"banana\", \"cherry\"]\n",
    "print(thislist)"
   ]
  },
  {
   "cell_type": "markdown",
   "id": "2b475526",
   "metadata": {},
   "source": [
    "### List Length"
   ]
  },
  {
   "cell_type": "code",
   "execution_count": 2,
   "id": "a4b84216",
   "metadata": {},
   "outputs": [
    {
     "name": "stdout",
     "output_type": "stream",
     "text": [
      "3\n"
     ]
    }
   ],
   "source": [
    "thislist = [\"apple\", \"banana\", \"cherry\"]\n",
    "print(len(thislist))"
   ]
  },
  {
   "cell_type": "markdown",
   "id": "d4c4a120",
   "metadata": {},
   "source": [
    "### List Items - Data Types"
   ]
  },
  {
   "cell_type": "code",
   "execution_count": 8,
   "id": "db5375f8",
   "metadata": {},
   "outputs": [
    {
     "name": "stdout",
     "output_type": "stream",
     "text": [
      "['apple', 'banana', 'cherry']\n",
      "[1, 5, 7, 9, 3]\n",
      "[True, False, False]\n",
      "['abc', 34, True, 40, 'male']\n"
     ]
    }
   ],
   "source": [
    "list1 = [\"apple\", \"banana\", \"cherry\"]\n",
    "list2 = [1, 5, 7, 9, 3]\n",
    "list3 = [True, False, False]\n",
    "list4 = [\"abc\", 34, True, 40, \"male\"]\n",
    "print(list1)\n",
    "print(list2)\n",
    "print(list3)\n",
    "print(list4)"
   ]
  },
  {
   "cell_type": "code",
   "execution_count": 9,
   "id": "833b0438",
   "metadata": {},
   "outputs": [
    {
     "name": "stdout",
     "output_type": "stream",
     "text": [
      "<class 'list'>\n",
      "<class 'list'>\n",
      "<class 'list'>\n",
      "<class 'list'>\n"
     ]
    }
   ],
   "source": [
    "list1 = [\"apple\", \"banana\", \"cherry\"]\n",
    "list2 = [1, 5, 7, 9, 3]\n",
    "list3 = [True, False, False]\n",
    "list4 = [\"abc\", 34, True, 40, \"male\"]\n",
    "print(type(list1))\n",
    "print(type(list2))\n",
    "print(type(list3))\n",
    "print(type(list4))"
   ]
  },
  {
   "cell_type": "markdown",
   "id": "f581646e",
   "metadata": {},
   "source": [
    "### list() constructor"
   ]
  },
  {
   "cell_type": "code",
   "execution_count": 10,
   "id": "b5c7e51b",
   "metadata": {},
   "outputs": [
    {
     "name": "stdout",
     "output_type": "stream",
     "text": [
      "['apple', 'banana', 'cherry']\n"
     ]
    }
   ],
   "source": [
    "list1 = list((\"apple\", \"banana\", \"cherry\"))\n",
    "print(list1)"
   ]
  },
  {
   "cell_type": "markdown",
   "id": "2a75a111",
   "metadata": {},
   "source": [
    "`['apple', 'banana', 'cherry']`\n",
    "brakets back!"
   ]
  },
  {
   "cell_type": "markdown",
   "id": "ff64d46b",
   "metadata": {},
   "source": [
    "---------------"
   ]
  },
  {
   "cell_type": "markdown",
   "id": "df46eaeb",
   "metadata": {},
   "source": [
    "Print the SECOND item of the list:"
   ]
  },
  {
   "cell_type": "code",
   "execution_count": 14,
   "id": "7c860e12",
   "metadata": {},
   "outputs": [
    {
     "name": "stdout",
     "output_type": "stream",
     "text": [
      "banana\n"
     ]
    }
   ],
   "source": [
    "list1 = [\"apple\", \"banana\", \"cherry\"]\n",
    "print(list1[1])"
   ]
  },
  {
   "cell_type": "markdown",
   "id": "54236641",
   "metadata": {},
   "source": [
    "Print the LAST item of the list:"
   ]
  },
  {
   "cell_type": "code",
   "execution_count": 16,
   "id": "4b8e7662",
   "metadata": {},
   "outputs": [
    {
     "name": "stdout",
     "output_type": "stream",
     "text": [
      "cherry\n"
     ]
    }
   ],
   "source": [
    "list1 = [\"apple\", \"banana\", \"cherry\"]\n",
    "print(list1[-1])"
   ]
  },
  {
   "cell_type": "markdown",
   "id": "7cc27f95",
   "metadata": {},
   "source": [
    "----"
   ]
  },
  {
   "cell_type": "markdown",
   "id": "c406bae8",
   "metadata": {},
   "source": [
    "Print the RANGE of Indexes"
   ]
  },
  {
   "cell_type": "code",
   "execution_count": 17,
   "id": "a0ea9cb2",
   "metadata": {},
   "outputs": [
    {
     "name": "stdout",
     "output_type": "stream",
     "text": [
      "['cherry', 'orange', 'kiwi']\n"
     ]
    }
   ],
   "source": [
    "list_fruits = [\"apple\", \"banana\", \"cherry\", \"orange\", \"kiwi\", \"melon\", \"mango\"]\n",
    "print(list_fruits[2:5])"
   ]
  },
  {
   "cell_type": "code",
   "execution_count": 18,
   "id": "51ba45ee",
   "metadata": {},
   "outputs": [
    {
     "name": "stdout",
     "output_type": "stream",
     "text": [
      "['apple', 'banana', 'cherry', 'orange', 'kiwi']\n"
     ]
    }
   ],
   "source": [
    "list_fruits = [\"apple\", \"banana\", \"cherry\", \"orange\", \"kiwi\", \"melon\", \"mango\"]\n",
    "print(list_fruits[:5])"
   ]
  },
  {
   "cell_type": "code",
   "execution_count": 19,
   "id": "d6992d6c",
   "metadata": {},
   "outputs": [
    {
     "name": "stdout",
     "output_type": "stream",
     "text": [
      "['cherry', 'orange', 'kiwi', 'melon', 'mango']\n"
     ]
    }
   ],
   "source": [
    "list_fruits = [\"apple\", \"banana\", \"cherry\", \"orange\", \"kiwi\", \"melon\", \"mango\"]\n",
    "print(list_fruits[2:])"
   ]
  },
  {
   "cell_type": "code",
   "execution_count": 20,
   "id": "c248c45a",
   "metadata": {},
   "outputs": [
    {
     "name": "stdout",
     "output_type": "stream",
     "text": [
      "['orange', 'kiwi', 'melon']\n"
     ]
    }
   ],
   "source": [
    "list_fruits = [\"apple\", \"banana\", \"cherry\", \"orange\", \"kiwi\", \"melon\", \"mango\"]\n",
    "print(list_fruits[-4:-1])"
   ]
  },
  {
   "cell_type": "markdown",
   "id": "4f733091",
   "metadata": {},
   "source": [
    "____"
   ]
  },
  {
   "cell_type": "markdown",
   "id": "c80562a8",
   "metadata": {},
   "source": [
    "CHECK if Item Exists"
   ]
  },
  {
   "cell_type": "code",
   "execution_count": 21,
   "id": "317db1c5",
   "metadata": {},
   "outputs": [
    {
     "name": "stdout",
     "output_type": "stream",
     "text": [
      "Yes, 'apple' is in the fruits list\n"
     ]
    }
   ],
   "source": [
    "list1 = [\"apple\", \"banana\", \"cherry\"]\n",
    "if \"apple\" in list1:\n",
    "    print(\"Yes, 'apple' is in the fruits list\")"
   ]
  },
  {
   "cell_type": "markdown",
   "id": "356de064",
   "metadata": {},
   "source": [
    "CHANGE Item Value"
   ]
  },
  {
   "cell_type": "markdown",
   "id": "bb91aedf",
   "metadata": {},
   "source": [
    "list1 = [\"apple\", \"banana\", \"cherry\"]\n",
    "list1[1] = \"blackcurrant\"\n",
    "print(list1)"
   ]
  },
  {
   "cell_type": "code",
   "execution_count": 23,
   "id": "ec445582",
   "metadata": {},
   "outputs": [
    {
     "name": "stdout",
     "output_type": "stream",
     "text": [
      "['apple', 'pear', 'lemon', 'orange']\n"
     ]
    }
   ],
   "source": [
    "list1 = [\"apple\", \"banana\", \"cherry\", \"orange\"]\n",
    "list1[1:3] = [\"pear\", \"lemon\"]\n",
    "print(list1)"
   ]
  },
  {
   "cell_type": "code",
   "execution_count": 24,
   "id": "4862ea7b",
   "metadata": {},
   "outputs": [
    {
     "name": "stdout",
     "output_type": "stream",
     "text": [
      "['apple', 'blackcurrant', 'watermelon', 'cherry']\n"
     ]
    }
   ],
   "source": [
    "thislist = [\"apple\", \"banana\", \"cherry\"]\n",
    "thislist[1:2] = [\"blackcurrant\", \"watermelon\"]\n",
    "print(thislist)"
   ]
  },
  {
   "attachments": {
    "141002143412_emoticon_624x351_thinkstock.jpg": {
     "image/jpeg": "[encoded data removed]"
    }
   },
   "cell_type": "markdown",
   "id": "c5261e66",
   "metadata": {},
   "source": [
    "![141002143412_emoticon_624x351_thinkstock.jpg](attachment:141002143412_emoticon_624x351_thinkstock.jpg)"
   ]
  },
  {
   "cell_type": "markdown",
   "id": "79f9891c",
   "metadata": {},
   "source": [
    "'blackcurrant' and 'watermelon' are replacing just the 'banana'!!!<br> and it´s ok!"
   ]
  },
  {
   "cell_type": "markdown",
   "id": "02d544e6",
   "metadata": {},
   "source": [
    "`and with  thislist[1:3] = [\"watermelon\"], <br> \n",
    "\"cherry\" desapears !!!!!!!: <br>\n",
    "['apple', 'watermelon']`"
   ]
  },
  {
   "cell_type": "markdown",
   "id": "a45d00f1",
   "metadata": {},
   "source": [
    "_____"
   ]
  },
  {
   "cell_type": "markdown",
   "id": "a0f1deb4",
   "metadata": {},
   "source": [
    "INSERT Items "
   ]
  },
  {
   "cell_type": "code",
   "execution_count": 25,
   "id": "9beb2f9f",
   "metadata": {},
   "outputs": [
    {
     "name": "stdout",
     "output_type": "stream",
     "text": [
      "['apple', 'blackcurrant', 'banana', 'cherry']\n"
     ]
    }
   ],
   "source": [
    "list1 = [\"apple\", \"banana\", \"cherry\"]\n",
    "list1.insert(1, \"blackcurrant\")\n",
    "print(list1)"
   ]
  },
  {
   "cell_type": "markdown",
   "id": "11295c98",
   "metadata": {},
   "source": [
    "APPEND Items"
   ]
  },
  {
   "cell_type": "code",
   "execution_count": 26,
   "id": "eb0a5f74",
   "metadata": {},
   "outputs": [
    {
     "name": "stdout",
     "output_type": "stream",
     "text": [
      "['apple', 'banana', 'cherry', 'blackcurrant']\n"
     ]
    }
   ],
   "source": [
    "list1 = [\"apple\", \"banana\", \"cherry\"]\n",
    "list1.append(\"blackcurrant\")\n",
    "print(list1)"
   ]
  },
  {
   "cell_type": "markdown",
   "id": "542224c0",
   "metadata": {},
   "source": [
    "EXTEND List"
   ]
  },
  {
   "cell_type": "code",
   "execution_count": 27,
   "id": "b3f5afa4",
   "metadata": {},
   "outputs": [
    {
     "name": "stdout",
     "output_type": "stream",
     "text": [
      "['apple', 'banana', 'cherry', 'mango', 'pineapple', 'papaya']\n"
     ]
    }
   ],
   "source": [
    "thislist = [\"apple\", \"banana\", \"cherry\"]\n",
    "tropical = [\"mango\", \"pineapple\", \"papaya\"]\n",
    "thislist.extend(tropical)\n",
    "print(thislist)"
   ]
  },
  {
   "cell_type": "markdown",
   "id": "6665a325",
   "metadata": {},
   "source": [
    "# extend()"
   ]
  },
  {
   "cell_type": "markdown",
   "id": "8bea3b8b",
   "metadata": {},
   "source": [
    "Add Any Iterable Object: tuples, sets, dictionaries, ..."
   ]
  },
  {
   "cell_type": "code",
   "execution_count": 28,
   "id": "90b0ab63",
   "metadata": {},
   "outputs": [
    {
     "name": "stdout",
     "output_type": "stream",
     "text": [
      "['apple', 'banana', 'cherry', 'kiwi', 'orange']\n"
     ]
    }
   ],
   "source": [
    "thislist = [\"apple\", \"banana\", \"cherry\"]\n",
    "thistuple = (\"kiwi\", \"orange\")\n",
    "thislist.extend(thistuple)\n",
    "print(thislist)"
   ]
  },
  {
   "cell_type": "markdown",
   "id": "05067e40",
   "metadata": {},
   "source": [
    "# remove()"
   ]
  },
  {
   "cell_type": "code",
   "execution_count": 31,
   "id": "0cb359d1",
   "metadata": {},
   "outputs": [
    {
     "name": "stdout",
     "output_type": "stream",
     "text": [
      "['apple', 'cherry']\n"
     ]
    }
   ],
   "source": [
    "thislist = [\"apple\", \"banana\", \"cherry\"]\n",
    "thislist.remove(\"banana\")\n",
    "print(thislist)"
   ]
  },
  {
   "cell_type": "markdown",
   "id": "9f6f7f26",
   "metadata": {},
   "source": [
    "# pop()"
   ]
  },
  {
   "cell_type": "code",
   "execution_count": 35,
   "id": "a3ecda97",
   "metadata": {},
   "outputs": [
    {
     "name": "stdout",
     "output_type": "stream",
     "text": [
      "['apple', 'cherry']\n"
     ]
    }
   ],
   "source": [
    "thislist = [\"apple\", \"banana\", \"cherry\"]\n",
    "thislist.pop(1)\n",
    "print(thislist)"
   ]
  },
  {
   "cell_type": "code",
   "execution_count": 33,
   "id": "e1b471b6",
   "metadata": {},
   "outputs": [
    {
     "name": "stdout",
     "output_type": "stream",
     "text": [
      "['apple', 'banana']\n"
     ]
    }
   ],
   "source": [
    "thislist = [\"apple\", \"banana\", \"cherry\"]\n",
    "thislist.pop()\n",
    "print(thislist)"
   ]
  },
  {
   "cell_type": "markdown",
   "id": "9d81a3c2",
   "metadata": {},
   "source": [
    "# del"
   ]
  },
  {
   "cell_type": "code",
   "execution_count": 34,
   "id": "1970689f",
   "metadata": {},
   "outputs": [
    {
     "name": "stdout",
     "output_type": "stream",
     "text": [
      "['banana', 'cherry']\n"
     ]
    }
   ],
   "source": [
    "thislist = [\"apple\", \"banana\", \"cherry\"]\n",
    "del thislist[0]\n",
    "print(thislist)"
   ]
  },
  {
   "cell_type": "code",
   "execution_count": 37,
   "id": "292161c6",
   "metadata": {},
   "outputs": [],
   "source": [
    "thislist = [\"apple\", \"banana\", \"cherry\"]\n",
    "del thislist"
   ]
  },
  {
   "cell_type": "markdown",
   "id": "ec8ffa64",
   "metadata": {},
   "source": [
    "###### list erased!!!!!!"
   ]
  },
  {
   "cell_type": "markdown",
   "id": "f00238ae",
   "metadata": {},
   "source": [
    "# clear()"
   ]
  },
  {
   "cell_type": "code",
   "execution_count": 38,
   "id": "d976129b",
   "metadata": {},
   "outputs": [
    {
     "name": "stdout",
     "output_type": "stream",
     "text": [
      "[]\n"
     ]
    }
   ],
   "source": [
    "thislist = [\"apple\", \"banana\", \"cherry\"]\n",
    "thislist.clear()\n",
    "print(thislist)"
   ]
  },
  {
   "cell_type": "code",
   "execution_count": null,
   "id": "d48f012b",
   "metadata": {},
   "outputs": [],
   "source": []
  }
 ],
 "metadata": {
  "kernelspec": {
   "display_name": "Python 3",
   "language": "python",
   "name": "python3"
  },
  "language_info": {
   "codemirror_mode": {
    "name": "ipython",
    "version": 3
   },
   "file_extension": ".py",
   "mimetype": "text/x-python",
   "name": "python",
   "nbconvert_exporter": "python",
   "pygments_lexer": "ipython3",
   "version": "3.8.8"
  }
 },
 "nbformat": 4,
 "nbformat_minor": 5
}
