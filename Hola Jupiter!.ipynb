{
 "cells": [
  {
   "cell_type": "code",
   "execution_count": 1,
   "id": "1c639e6d",
   "metadata": {},
   "outputs": [
    {
     "name": "stdout",
     "output_type": "stream",
     "text": [
      "Hola Jupyter!\n"
     ]
    }
   ],
   "source": [
    "print('Hola Jupyter!')"
   ]
  },
  {
   "cell_type": "code",
   "execution_count": 2,
   "id": "570aa9c2",
   "metadata": {},
   "outputs": [
    {
     "name": "stdout",
     "output_type": "stream",
     "text": [
      "d´acord.\n"
     ]
    }
   ],
   "source": [
    "print('d´acord.')"
   ]
  },
  {
   "cell_type": "code",
   "execution_count": 4,
   "id": "13954779",
   "metadata": {},
   "outputs": [
    {
     "name": "stdout",
     "output_type": "stream",
     "text": [
      "12\n",
      "Hello World\n"
     ]
    }
   ],
   "source": [
    "x = 34 - 23\n",
    "y = \"Hello\"\n",
    "z = 3.45\n",
    "if z == 3.45 or y == \"Hello\":\n",
    "    x = x + 1\n",
    "    y = y + \" \" + \"World\"          # String concat.\n",
    "print(x)\n",
    "print(y) "
   ]
  },
  {
   "cell_type": "code",
   "execution_count": 5,
   "id": "583291c0",
   "metadata": {},
   "outputs": [],
   "source": [
    "def my_funcion(x, y):\n",
    "    \"\"\"this is the docstring. This function does blah blah.\"\"\"\n",
    "    # The code would go here ... \n",
    "    "
   ]
  },
  {
   "cell_type": "code",
   "execution_count": 6,
   "id": "f2ee248b",
   "metadata": {},
   "outputs": [
    {
     "name": "stdout",
     "output_type": "stream",
     "text": [
      "2\n"
     ]
    }
   ],
   "source": [
    ">>> x, y = 2, 3\n",
    "print(x)"
   ]
  },
  {
   "cell_type": "code",
   "execution_count": 8,
   "id": "57f7ae99",
   "metadata": {},
   "outputs": [
    {
     "name": "stdout",
     "output_type": "stream",
     "text": [
      "abc\n"
     ]
    }
   ],
   "source": [
    "tu = (23, \"abc\", 4.56, (2,3), \"def\")\n",
    "print(tu [1])"
   ]
  },
  {
   "cell_type": "code",
   "execution_count": 17,
   "id": "85f07949",
   "metadata": {},
   "outputs": [
    {
     "name": "stdout",
     "output_type": "stream",
     "text": [
      "34\n",
      "[34]\n"
     ]
    }
   ],
   "source": [
    "li = [\"abc\", 34, 4.34, 23]\n",
    "print (li[1])\n",
    "print (li[1:2])\n"
   ]
  },
  {
   "cell_type": "code",
   "execution_count": 14,
   "id": "9fd91c15",
   "metadata": {},
   "outputs": [
    {
     "name": "stdout",
     "output_type": "stream",
     "text": [
      "e\n",
      "r\n",
      "llo\n"
     ]
    }
   ],
   "source": [
    ">>> st = \"Hello World\"\n",
    "print(st[1])\n",
    "print(st[-3])\n",
    "print(st[2:5])"
   ]
  },
  {
   "cell_type": "code",
   "execution_count": 15,
   "id": "5ff91da2",
   "metadata": {},
   "outputs": [
    {
     "name": "stdout",
     "output_type": "stream",
     "text": [
      "('abc', 4.56, (2, 3))\n"
     ]
    }
   ],
   "source": [
    "t = (23, \"abc\", 4.56, (2,3), \"def\")\n",
    "print(t [1:4])\n"
   ]
  },
  {
   "cell_type": "code",
   "execution_count": 23,
   "id": "50221d3c",
   "metadata": {},
   "outputs": [
    {
     "name": "stdout",
     "output_type": "stream",
     "text": [
      "(23, 'abc', 4.56, (2, 3), 'def')\n"
     ]
    }
   ],
   "source": [
    "t = (23, \"abc\", 4.56, (2,3), \"def\")\n",
    "print(t[:])"
   ]
  },
  {
   "cell_type": "code",
   "execution_count": 25,
   "id": "599a7174",
   "metadata": {},
   "outputs": [
    {
     "name": "stdout",
     "output_type": "stream",
     "text": [
      "[1, 2]\n"
     ]
    }
   ],
   "source": [
    "t = [1, 2, 3, 4, 5]\n",
    "print(t[:2])\n"
   ]
  },
  {
   "cell_type": "code",
   "execution_count": 1,
   "id": "ab241394",
   "metadata": {},
   "outputs": [
    {
     "name": "stdout",
     "output_type": "stream",
     "text": [
      "[1, 459, 3, 4, 5]\n"
     ]
    }
   ],
   "source": [
    "t = [1, 2, 3, 4, 5]  #lists are mutable\n",
    "t[1] = 459\n",
    "print(t)\n"
   ]
  },
  {
   "cell_type": "code",
   "execution_count": 2,
   "id": "f3b4fcee",
   "metadata": {},
   "outputs": [
    {
     "ename": "TypeError",
     "evalue": "'tuple' object does not support item assignment",
     "output_type": "error",
     "traceback": [
      "\u001b[0;31m---------------------------------------------------------------------------\u001b[0m",
      "\u001b[0;31mTypeError\u001b[0m                                 Traceback (most recent call last)",
      "\u001b[0;32m<ipython-input-2-c9cb021e66c7>\u001b[0m in \u001b[0;36m<module>\u001b[0;34m\u001b[0m\n\u001b[1;32m      1\u001b[0m \u001b[0mt\u001b[0m \u001b[0;34m=\u001b[0m \u001b[0;34m(\u001b[0m\u001b[0;36m1\u001b[0m\u001b[0;34m,\u001b[0m \u001b[0;36m2\u001b[0m\u001b[0;34m,\u001b[0m \u001b[0;36m3\u001b[0m\u001b[0;34m,\u001b[0m \u001b[0;36m4\u001b[0m\u001b[0;34m,\u001b[0m \u001b[0;36m5\u001b[0m\u001b[0;34m)\u001b[0m\u001b[0;34m\u001b[0m\u001b[0;34m\u001b[0m\u001b[0m\n\u001b[0;32m----> 2\u001b[0;31m \u001b[0mt\u001b[0m\u001b[0;34m[\u001b[0m\u001b[0;36m2\u001b[0m\u001b[0;34m]\u001b[0m \u001b[0;34m=\u001b[0m \u001b[0;36m459\u001b[0m\u001b[0;34m\u001b[0m\u001b[0;34m\u001b[0m\u001b[0m\n\u001b[0m\u001b[1;32m      3\u001b[0m \u001b[0mprint\u001b[0m\u001b[0;34m(\u001b[0m\u001b[0mt\u001b[0m\u001b[0;34m)\u001b[0m\u001b[0;34m\u001b[0m\u001b[0;34m\u001b[0m\u001b[0m\n",
      "\u001b[0;31mTypeError\u001b[0m: 'tuple' object does not support item assignment"
     ]
    }
   ],
   "source": [
    "t = (1, 2, 3, 4, 5)  #tuples are immutable\n",
    "t[2] = 459\n",
    "print(t)"
   ]
  },
  {
   "cell_type": "code",
   "execution_count": 3,
   "id": "d2b22c9f",
   "metadata": {},
   "outputs": [
    {
     "name": "stdout",
     "output_type": "stream",
     "text": [
      "bozo\n"
     ]
    }
   ],
   "source": [
    "d = {\"user\":\"bozo\", \"pswd\":1234}\n",
    "print(d[\"user\"])"
   ]
  },
  {
   "cell_type": "code",
   "execution_count": 4,
   "id": "181e96b2",
   "metadata": {},
   "outputs": [
    {
     "name": "stdout",
     "output_type": "stream",
     "text": [
      "{'user': 'clown', 'pswd': 1234}\n"
     ]
    }
   ],
   "source": [
    "d = {\"user\":\"bozo\", \"pswd\":1234}\n",
    "d[\"user\"] = \"clown\"\n",
    "print(d)\n"
   ]
  },
  {
   "cell_type": "code",
   "execution_count": 13,
   "id": "6092d234",
   "metadata": {},
   "outputs": [
    {
     "name": "stdout",
     "output_type": "stream",
     "text": [
      "X equals 3.\n"
     ]
    }
   ],
   "source": [
    "x = 3\n",
    "\n",
    "if x == 3:\n",
    "      print (\"X equals 3.\")\n",
    "elif x == 2:\n",
    "      print (\"X equals 2.\")\n",
    "else:\n",
    "      print (\"X equals something else.\")\n",
    "  \n",
    "      print (\"This is outside the ‘if’.\")"
   ]
  },
  {
   "cell_type": "code",
   "execution_count": null,
   "id": "2bfe19fe",
   "metadata": {},
   "outputs": [],
   "source": []
  },
  {
   "cell_type": "code",
   "execution_count": null,
   "id": "6b281ed1",
   "metadata": {},
   "outputs": [],
   "source": []
  }
 ],
 "metadata": {
  "kernelspec": {
   "display_name": "Python 3",
   "language": "python",
   "name": "python3"
  },
  "language_info": {
   "codemirror_mode": {
    "name": "ipython",
    "version": 3
   },
   "file_extension": ".py",
   "mimetype": "text/x-python",
   "name": "python",
   "nbconvert_exporter": "python",
   "pygments_lexer": "ipython3",
   "version": "3.8.8"
  }
 },
 "nbformat": 4,
 "nbformat_minor": 5
}
